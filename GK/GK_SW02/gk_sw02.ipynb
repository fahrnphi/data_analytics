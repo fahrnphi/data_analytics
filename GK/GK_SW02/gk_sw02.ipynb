{
 "cells": [
  {
   "cell_type": "code",
   "execution_count": 7,
   "metadata": {},
   "outputs": [
    {
     "name": "stdout",
     "output_type": "stream",
     "text": [
      "         date currency_code       name  local_price  dollar_ex  dollar_price\n",
      "0  2000-04-01           ARS  Argentina         2.50          1          2.50\n",
      "1  2000-04-01           AUD  Australia         2.59          1          2.59\n",
      "2  2000-04-01           BRL     Brazil         2.95          1          2.95\n",
      "3  2000-04-01           GBP    Britain         1.90          1          1.90\n",
      "4  2000-04-01           CAD     Canada         2.85          1          2.85\n",
      "\n",
      " date              object\n",
      "currency_code     object\n",
      "name              object\n",
      "local_price      float64\n",
      "dollar_ex          int64\n",
      "dollar_price     float64\n",
      "dtype: object\n",
      "\n",
      " <class 'pandas.core.frame.DataFrame'>\n"
     ]
    }
   ],
   "source": [
    "#1.) Read BigmacPrice.csv to a pandas data frame\n",
    "\n",
    "import pandas as pd;\n",
    "df = pd.read_csv('BigmacPrice.csv', encoding='utf-8');\n",
    "\n",
    "print(df.head());\n",
    "\n",
    "print('\\n', df.dtypes)\n",
    "\n",
    "print('\\n', type(df))"
   ]
  },
  {
   "cell_type": "code",
   "execution_count": 3,
   "metadata": {},
   "outputs": [
    {
     "name": "stdout",
     "output_type": "stream",
     "text": [
      "{'New Hampshire Red': 297, 'Australorp': 213, 'Plymouth Rock': 314, 'Barnevelder': 316, 'ISA Brown': 225}\n"
     ]
    }
   ],
   "source": [
    "#2.) Read ChickenData.xlsx to a pandas data frame\n",
    "#    -> Create dictionary from the data frame with breed (keys) and eggs_per_year (values)\n",
    "\n",
    "import pandas as pd\n",
    "\n",
    "# Step 1: Read ChickenData.xlsx into a pandas data frame\n",
    "df = pd.read_excel('ChickenData.xlsx')\n",
    "\n",
    "# Step 2: Create a dictionary from the data frame\n",
    "breed_eggs_dict = dict(zip(df['breed'], df['eggs_per_year']))\n",
    "\n",
    "# Print the resulting dictionary\n",
    "print(breed_eggs_dict)"
   ]
  },
  {
   "cell_type": "code",
   "execution_count": 13,
   "metadata": {},
   "outputs": [
    {
     "name": "stdout",
     "output_type": "stream",
     "text": [
      "   Offer_Id                                               Type  Price      PS  \\\n",
      "0   7324420  AUDI A5 Sportback 3.0 TDI quattro S-tronic (Li...  22500  245 PS   \n",
      "1   7512768        MERCEDES-BENZ SLK 200 7G-Tronic (Cabriolet)  23749  184 PS   \n",
      "2   7512034  MERCEDES-BENZ C 350 Avantgarde 4Matic 7G-Troni...  18500  306 PS   \n",
      "3   7512728  MERCEDES-BENZ A 45 AMG 4Matic Speedshift 7G-DC...  36000  360 PS   \n",
      "4   7490242  AUDI A5 Sportback 2.0 TFSI Sport quattro S-tro...  48500  252 PS   \n",
      "\n",
      "  Init_Regist   Kilometer Fuel_Type                    Transmission  \n",
      "0     10.2014   75'000 km    Diesel  Automatisiertes Schaltgetriebe  \n",
      "1      6.2013   46'655 km    Benzin             Automat sequentiell  \n",
      "2      6.2011  138'955 km    Benzin             Automat sequentiell  \n",
      "3      8.2015   43'000 km    Benzin  Automatisiertes Schaltgetriebe  \n",
      "4      9.2018   43'300 km    Benzin  Automatisiertes Schaltgetriebe  \n"
     ]
    },
    {
     "data": {
      "image/png": "[encoded data removed]",
      "text/plain": [
       "<Figure size 640x480 with 1 Axes>"
      ]
     },
     "metadata": {},
     "output_type": "display_data"
    }
   ],
   "source": [
    "# 3.) Check seperator and ecoding of Cars_autoscout24.csv\n",
    "#     -> Read Cars_autoscout24.csv to a pandas data frame\n",
    "# \t-> Convert Prices to numeric, store it as Prices_numeric\n",
    "# \t-> Plot histogram from Prices_numeric\n",
    "\n",
    "import pandas as pd\n",
    "import matplotlib.pyplot as plt\n",
    "\n",
    "# Step 1: Read the CSV into a pandas DataFrame\n",
    "df = pd.read_csv('Cars_autoscout24.csv', sep=';', encoding='windows-1252')\n",
    "\n",
    "\n",
    "# Step 2: Remove 'CHF' and '.-' from the 'Price' column\n",
    "df['Price'] = df['Price'].str.replace('[^\\d]', '', regex=True)\n",
    "\n",
    "#Check if it has removed everything besides the number\n",
    "print(df.head())\n",
    "\n",
    "\n",
    "# Step 3: Convert 'Prices' to numeric and store it as 'Prices_numeric'\n",
    "df['Prices_numeric'] = pd.to_numeric(df['Price'], errors='coerce')\n",
    "\n",
    "# Step 4: Plot a histogram from 'Prices_numeric'\n",
    "plt.hist(df['Prices_numeric'].dropna(), bins=20)  # Drop NaN values before plotting\n",
    "plt.xlabel('Price')\n",
    "plt.ylabel('Frequency')\n",
    "plt.title('Price Distribution')\n",
    "plt.grid()\n",
    "plt.show()"
   ]
  }
 ],
 "metadata": {
  "kernelspec": {
   "display_name": "Python 3",
   "language": "python",
   "name": "python3"
  },
  "language_info": {
   "codemirror_mode": {
    "name": "ipython",
    "version": 3
   },
   "file_extension": ".py",
   "mimetype": "text/x-python",
   "name": "python",
   "nbconvert_exporter": "python",
   "pygments_lexer": "ipython3",
   "version": "3.10.13"
  },
  "orig_nbformat": 4
 },
 "nbformat": 4,
 "nbformat_minor": 2
}
